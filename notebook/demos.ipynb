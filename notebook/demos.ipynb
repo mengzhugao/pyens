{
 "cells": [
  {
   "cell_type": "code",
   "execution_count": 1,
   "metadata": {
    "pycharm": {
     "name": "#%%\n"
    }
   },
   "outputs": [],
   "source": [
    "import numpy as np\n",
    "import pandas as pd\n",
    "from pyens.models import Flywheel, OCV, EcmCell\n",
    "from pyens.utilities import ivp\n",
    "from pyens.simulations import Simulator, Data, Current, Learner\n",
    "import os\n",
    "import matplotlib.pyplot as plt"
   ]
  },
  {
   "cell_type": "code",
   "execution_count": 2,
   "metadata": {
    "pycharm": {
     "name": "#%%\n"
    }
   },
   "outputs": [
    {
     "data": {
      "image/png": "[encoded data removed]",
      "text/plain": [
       "<Figure size 432x288 with 1 Axes>"
      ]
     },
     "metadata": {
      "needs_background": "light"
     },
     "output_type": "display_data"
    }
   ],
   "source": [
    "ocv = [3.3, 3.5, 3.55, 3.6, 3.65, 3.68, 3.70, 3.8, 3.95, 4.0, 4.1]\n",
    "soc = [0, 10, 20, 30, 40, 50, 60, 70, 80, 90, 100]\n",
    "\n",
    "c1 = OCV(name=\"curve1\", ocv=ocv, soc=soc)\n",
    "\n",
    "c1.display()"
   ]
  },
  {
   "cell_type": "code",
   "execution_count": 3,
   "metadata": {
    "pycharm": {
     "name": "#%%\n"
    }
   },
   "outputs": [],
   "source": [
    "param = {\n",
    " \"R0\": 0.034,\n",
    " \"R1\": 0.022,\n",
    " \"C1\": 1500,\n",
    " \"R2\": 0.019,\n",
    " \"C2\": 65000,\n",
    " \"CAP\": 15,\n",
    " \"ce\": 0.96,\n",
    " \"v_limits\": [2.5, 4.5],\n",
    " \"SOC_RANGE\": [0.0, 100.0],\n",
    "}\n",
    "\n",
    "m1 = EcmCell(name=\"cell_model1\", parameters=param, curve=c1)\n",
    "m1.display()"
   ]
  },
  {
   "cell_type": "code",
   "execution_count": 4,
   "metadata": {
    "pycharm": {
     "name": "#%%\n"
    }
   },
   "outputs": [],
   "source": [
    "dt = 0.1\n",
    "CURR_EXCITATION = 7.5\n",
    "HOUR = 3600.0\n",
    "h_steps = [1.75, 0.25, 0.25, 0.25, 1, 1, 1]\n",
    "current_steps = [\n",
    " -CURR_EXCITATION,\n",
    " -CURR_EXCITATION / 2,\n",
    " -CURR_EXCITATION / 4,\n",
    " -CURR_EXCITATION / 8,\n",
    " 0.0,\n",
    " CURR_EXCITATION,\n",
    " 0.0,\n",
    "]\n",
    "\n",
    "initial_soc = 0.0\n",
    "t_steps = [value * HOUR for value in h_steps]\n",
    "total_time = sum(t_steps)\n",
    "samples = int(total_time / dt)\n",
    "\n",
    "time_np = np.linspace(0.0, total_time, samples)\n",
    "step_cur = Current(name=\"current1\")"
   ]
  },
  {
   "cell_type": "code",
   "execution_count": 5,
   "metadata": {
    "pycharm": {
     "name": "#%%\n"
    }
   },
   "outputs": [],
   "source": [
    "for t_step, current_step in zip(t_steps, current_steps):\n",
    " step_cur.add_step(current_step, int(t_step / dt))\n",
    "\n",
    "data = {\"time\": time_np, \"current\": step_cur.current}\n",
    "df = pd.DataFrame(data)\n",
    "d1 = Data(name=\"current_excite\", df=df)"
   ]
  },
  {
   "cell_type": "code",
   "execution_count": 6,
   "metadata": {
    "collapsed": false,
    "pycharm": {
     "name": "#%%\n"
    }
   },
   "outputs": [
    {
     "data": {
      "text/plain": [
       "<pyens.simulations.simulations.Simulator at 0x1afc7a20f40>"
      ]
     },
     "execution_count": 6,
     "metadata": {},
     "output_type": "execute_result"
    }
   ],
   "source": [
    "s1 = Simulator(name=\"simulator1\")\n",
    "s1.attach(m1).attach(d1)"
   ]
  },
  {
   "cell_type": "code",
   "execution_count": 7,
   "metadata": {
    "collapsed": false,
    "pycharm": {
     "name": "#%%\n"
    }
   },
   "outputs": [
    {
     "data": {
      "image/png": "[encoded data removed]",
      "text/plain": [
       "<Figure size 432x288 with 3 Axes>"
      ]
     },
     "metadata": {
      "needs_background": "light"
     },
     "output_type": "display_data"
    },
    {
     "data": {
      "text/plain": [
       "0      3.300000\n",
       "1      3.300000\n",
       "2      3.300000\n",
       "3      3.300003\n",
       "4      3.300030\n",
       "         ...   \n",
       "221    3.663795\n",
       "222    3.663795\n",
       "223    3.663795\n",
       "224    3.663795\n",
       "225    3.663795\n",
       "Name: ocv, Length: 226, dtype: float64"
      ]
     },
     "execution_count": 7,
     "metadata": {},
     "output_type": "execute_result"
    }
   ],
   "source": [
    "sol = s1.run(\n",
    "    pair=(\"cell_model1\", \"current_excite\"),\n",
    "    x0=np.array([0, 0, initial_soc]),\n",
    "    config={\"solver_type\": \"adaptive\", \"solution_name\": \"sol1\"},\n",
    ")\n",
    "\n",
    "sol.disp([\"current\", \"soc\", \"vt\"])"
   ]
  },
  {
   "cell_type": "code",
   "execution_count": 8,
   "metadata": {},
   "outputs": [
    {
     "data": {
      "text/plain": [
       "array([1.22986160e-01, 2.19213586e-02, 1.50010768e+03, 1.91157736e-02,\n",
       "       6.49987826e+04])"
      ]
     },
     "execution_count": 8,
     "metadata": {},
     "output_type": "execute_result"
    }
   ],
   "source": [
    "TESTDATA_FILEPATH = os.path.join(os.path.dirname(os.getcwd()),'tests\\CS2_3_9_28_11.csv')\n",
    "schema = {\n",
    "    \"Test_Time(s)\": \"time\",\n",
    "    \"Current(A)\": \"current\",\n",
    "    \"Voltage(V)\": \"vt\",\n",
    "    \"rsv_i_dir\": True,\n",
    "}\n",
    "d1 = Data(name='d1', df=None)\n",
    "d1.fetch_file(TESTDATA_FILEPATH, schema=schema)\n",
    "l1=Learner(name=\"l1\")\n",
    "# initial guess for R0, R1,C1,R2,C2\n",
    "p0=[0.034,\n",
    "0.022,\n",
    "1500,\n",
    "0.019,\n",
    "65000]\n",
    "x0=np.array([0, 0, initial_soc])\n",
    "config={\"solver_type\": \"adaptive\", \"solution_name\": \"sol1\"}\n",
    "res=l1.fit_parameters(p0,d1,c1,config,x0)\n",
    "R0,R1,C2,R2,C2=res.x\n",
    "res.x"
   ]
  }
 ],
 "metadata": {
  "kernelspec": {
   "display_name": ".venv",
   "language": "python",
   "name": ".venv"
  },
  "language_info": {
   "codemirror_mode": {
    "name": "ipython",
    "version": 3
   },
   "file_extension": ".py",
   "mimetype": "text/x-python",
   "name": "python",
   "nbconvert_exporter": "python",
   "pygments_lexer": "ipython3",
   "version": "3.8.10"
  },
  "vscode": {
   "interpreter": {
    "hash": "639156cd9aa93556046b2d2c54c39270902e83c482199237a2a9ecd3e1cd93d3"
   }
  }
 },
 "nbformat": 4,
 "nbformat_minor": 1
}
